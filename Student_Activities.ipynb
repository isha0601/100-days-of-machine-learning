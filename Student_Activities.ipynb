{
  "nbformat": 4,
  "nbformat_minor": 0,
  "metadata": {
    "colab": {
      "provenance": [],
      "include_colab_link": true
    },
    "kernelspec": {
      "name": "python3",
      "display_name": "Python 3"
    },
    "language_info": {
      "name": "python"
    }
  },
  "cells": [
    {
      "cell_type": "markdown",
      "metadata": {
        "id": "view-in-github",
        "colab_type": "text"
      },
      "source": [
        "<a href=\"https://colab.research.google.com/github/isha0601/100-days-of-machine-learning/blob/main/Student_Activities.ipynb\" target=\"_parent\"><img src=\"https://colab.research.google.com/assets/colab-badge.svg\" alt=\"Open In Colab\"/></a>"
      ]
    },
    {
      "cell_type": "markdown",
      "source": [
        "# Student Task-1\n",
        "\n",
        "### **1. Chatbot Simulator**\n",
        "\n",
        "### 🎯 Problem Statement:\n",
        "\n",
        "Build a simple chatbot loop that:\n",
        "\n",
        "- Keeps taking user input until the user types `\"exit\"`.\n",
        "- Responds with a **predefined reply** each time.\n",
        "- Stops when the user wants to quit.\n",
        "\n",
        "\n",
        "# Output\n",
        "\n",
        "```\n",
        "You: Hello\n",
        "Chatbot: I'm just a pretend chatbot 🤖\n",
        "You: How are you?\n",
        "Chatbot: I'm just a pretend chatbot 🤖\n",
        "You: exit\n",
        "```\n"
      ],
      "metadata": {
        "id": "Iw1jJRpqh3yl"
      }
    },
    {
      "cell_type": "code",
      "source": [
        "while True:\n",
        "\n",
        "  user_input = input(\"You: \")\n",
        "\n",
        "  if user_input.lower() == \"exit\":\n",
        "    print(\"Goodbye!\")\n",
        "    break\n",
        "\n",
        "\n",
        "  print(\"Chatbot: I'm just a pretend chatbot 🤖\")"
      ],
      "metadata": {
        "colab": {
          "base_uri": "https://localhost:8080/"
        },
        "id": "CQCk4ses4Yh_",
        "outputId": "45ed40f0-554a-46de-a4a4-4c545687f870"
      },
      "execution_count": null,
      "outputs": [
        {
          "output_type": "stream",
          "name": "stdout",
          "text": [
            "You: Hello\n",
            "Chatbot: I'm just a pretend chatbot 🤖\n",
            "You: Hii\n",
            "Chatbot: I'm just a pretend chatbot 🤖\n",
            "You: exit\n",
            "Goodbye!\n"
          ]
        }
      ]
    },
    {
      "cell_type": "markdown",
      "source": [
        "# Student Task-2: Summarize Using Gemini\n",
        "\n",
        "You are provided with the following paragraph:\n",
        "\n",
        "---\n",
        "\n",
        "📝 **Input Paragraph:**\n",
        "\n",
        "> Over the past decade, education has experienced a significant shift due to rapid advancements in technology. Online learning platforms like Coursera, edX, and Khan Academy have made high-quality education accessible to millions of students worldwide. Virtual classrooms now allow real-time interaction between teachers and learners, breaking down geographical barriers. Artificial intelligence is further enhancing the learning experience through personalized tutoring, automated grading, and adaptive content delivery based on student performance. This shift has empowered students to learn at their own pace, revisit lectures, and explore diverse topics beyond their curriculum. Mobile apps and gamified learning modules are keeping learners engaged in innovative ways. However, this digital transformation also introduces challenges. Not all students have equal access to stable internet, quality devices, or a quiet learning environment at home. Additionally, the lack of face-to-face interaction may lead to feelings of isolation and reduced motivation. As we embrace the future of education, balancing technology with human support and inclusivity remains critical.\n",
        "\n",
        "---\n",
        "\n",
        "✅ **Your Task:**\n",
        "\n",
        "1. Use **Gemini** to summarize the above paragraph into **exactly 5 bullet points**.\n",
        "2. The bullet points should be **concise**, **clear**, and **informative**.\n",
        "\n",
        "4. You may prompt Gemini like this:\n",
        "\n",
        "   ```\n",
        "   Summarize the following paragraph into 5 bullet points:\n",
        "   <paste paragraph here>\n",
        "   ```\n",
        "\n",
        "---\n"
      ],
      "metadata": {
        "id": "hPcMh7yO9AxC"
      }
    },
    {
      "cell_type": "code",
      "source": [
        "!pip install google-genai"
      ],
      "metadata": {
        "id": "6Skcq8d6AsHT"
      },
      "execution_count": null,
      "outputs": []
    },
    {
      "cell_type": "code",
      "source": [
        "from getpass import getpass\n",
        "\n",
        "gemini_key = getpass(\"Enter your api key: \")"
      ],
      "metadata": {
        "colab": {
          "base_uri": "https://localhost:8080/"
        },
        "id": "vEKZ2X1ZAvm4",
        "outputId": "2e82b2cc-006b-4496-d385-945e81d2b362"
      },
      "execution_count": null,
      "outputs": [
        {
          "name": "stdout",
          "output_type": "stream",
          "text": [
            "Enter your api key: ··········\n"
          ]
        }
      ]
    },
    {
      "cell_type": "code",
      "source": [
        "from google import genai\n",
        "\n",
        "client = genai.Client(api_key = gemini_key)\n",
        "\n",
        "paragraph = \"\"\"\n",
        "\n",
        "Over the past decade, education has experienced a significant shift due to rapid advancements in technology. Online learning platforms like Coursera, edX, and Khan Academy have made high-quality education accessible to millions of students worldwide. Virtual classrooms now allow real-time interaction between teachers and learners, breaking down geographical barriers. Artificial intelligence is further enhancing the learning experience through personalized tutoring, automated grading, and adaptive content delivery based on student performance. This shift has empowered students to learn at their own pace, revisit lectures, and explore diverse topics beyond their curriculum. Mobile apps and gamified learning modules are keeping learners engaged in innovative ways. However, this digital transformation also introduces challenges. Not all students have equal access to stable internet, quality devices, or a quiet learning environment at home. Additionally, the lack of face-to-face interaction may lead to feelings of isolation and reduced motivation. As we embrace the future of education, balancing technology with human support and inclusivity remains critical.\n",
        "\n",
        "\"\"\"\n",
        "\n",
        "prompt = f\"Summarize the {paragraph} into 5 bullet points\"\n",
        "\n",
        "\n",
        "response = client.models.generate_content(\n",
        "    model=\"gemini-2.5-flash\",\n",
        "    contents=prompt\n",
        ")\n",
        "\n",
        "print(response.text)"
      ],
      "metadata": {
        "colab": {
          "base_uri": "https://localhost:8080/"
        },
        "id": "tvbtuVznBF4Y",
        "outputId": "226d7540-b928-4075-a144-93d2560fed01"
      },
      "execution_count": null,
      "outputs": [
        {
          "output_type": "stream",
          "name": "stdout",
          "text": [
            "Here's a summary in 5 bullet points:\n",
            "\n",
            "*   Technology, including online platforms (Coursera, edX), virtual classrooms, and AI, has significantly transformed education, making it more accessible and personalized.\n",
            "*   Students now benefit from self-paced learning, revisited lectures, diverse content exploration, and engaging gamified modules.\n",
            "*   Despite the advancements, a major challenge is the unequal access to stable internet, quality devices, and suitable home learning environments for all students.\n",
            "*   The reduced face-to-face interaction in digital learning can lead to feelings of isolation and decreased motivation.\n",
            "*   Moving forward, it's crucial to balance technological integration with human support and ensure inclusivity in education.\n"
          ]
        }
      ]
    },
    {
      "cell_type": "markdown",
      "source": [
        "#Student Task -3: Chatbot with Memory & Character Knowledge\n",
        "\n",
        "### 📄 Problem Statement\n",
        "\n",
        "You are building a simple **chatbot using Gemini Flash API** that can:\n",
        "\n",
        "1. **Remember past conversations**\n",
        "2. **Answer questions about a character** based on the data you provide\n",
        "\n",
        "---\n",
        "\n",
        "### 🧪 Tasks to Complete\n",
        "\n",
        "1. Setup the chatbot using the given `Gemini Flash` structure.\n",
        "2. Add memory using the `history` list.\n",
        "3. Feed a **character biodata** into the chatbot’s memory at the start.\n",
        "4. Ask the chatbot **follow-up questions** about the character, like:\n",
        "\n",
        "   * “Where does the character live?”\n",
        "   * “What are her hobbies?”\n",
        "   * “Is she married?”\n",
        "5. The chatbot must **respond based on the character's biodata**.\n",
        "\n",
        "---\n",
        "\n",
        "### 🧍‍♀️ Character Biodata (To feed initially)\n",
        "\n",
        "```plaintext\n",
        "Name: Aanya Verma  \n",
        "Age: 27  \n",
        "City: Bangalore  \n",
        "Profession: Software Engineer  \n",
        "Hobbies: Painting, Trekking, and Cooking  \n",
        "Relationship Status: Single  \n",
        "Favorite Language: Python  \n",
        "```\n",
        "\n",
        "---\n",
        "\n",
        "### 💡 Hints\n",
        "\n",
        "* Add this biodata to the `history` before the loop starts.\n",
        "* Always pass the full conversation (`history`) to the model.\n",
        "* Use `\\n` to join conversation turns clearly.\n",
        "\n",
        "---\n",
        "\n",
        "### 🎯 Sample Questions to Try\n",
        "\n",
        "```\n",
        "- What is Aanya’s profession?\n",
        "- Does she like painting?\n",
        "- Is she in a relationship?\n",
        "- What language does she love?\n",
        "```\n",
        "\n",
        "---\n"
      ],
      "metadata": {
        "id": "5yx0uiiVjv_X"
      }
    },
    {
      "cell_type": "code",
      "source": [
        "history = []\n",
        "\n",
        "\n",
        "character_info = \"\"\"\n",
        "\n",
        "Character Biodata\n",
        "\n",
        "Name: Aanya Verma\n",
        "Age: 27\n",
        "City: Bangalore\n",
        "Profession: Software Engineer\n",
        "Hobbies: Painting, Trekking, and Cooking\n",
        "Relationship Status: Single\n",
        "Favorite Language: Python\n",
        "\n",
        "\"\"\"\n",
        "history.append(character_info)\n",
        "\n",
        "while True:\n",
        "\n",
        "  user_input = input(\"You: \")\n",
        "\n",
        "  history.append(f\"You: {user_input}\")\n",
        "\n",
        "  prompt = \"\\n\".join(history) + f\"Gemini: \"\n",
        "\n",
        "  if user_input == \"exit\":\n",
        "    print(\"Goodbye!\")\n",
        "    break\n",
        "\n",
        "\n",
        "  response = client.models.generate_content(\n",
        "    model=\"gemini-2.5-flash\",\n",
        "    contents=prompt\n",
        ")\n",
        "\n",
        "  reply = f\"Gemini: {response.text}\"\n",
        "  history.append(reply)\n",
        "  print(reply)\n",
        "\n"
      ],
      "metadata": {
        "colab": {
          "base_uri": "https://localhost:8080/"
        },
        "id": "FG_7XUeFJ49A",
        "outputId": "70ee7d33-204e-429b-bf09-a4bfa42b8e0d"
      },
      "execution_count": null,
      "outputs": [
        {
          "output_type": "stream",
          "name": "stdout",
          "text": [
            "You: What is Aanya’s profession?\n",
            "Gemini: Aanya's profession is Software Engineer.\n",
            "You: Is she in a relationship?\n",
            "Gemini: Aanya's relationship status is Single.\n",
            "You: What language does she love?\n",
            "Gemini: Aanya's favorite language is Python.\n",
            "You: exit\n",
            "Goodbye!\n"
          ]
        }
      ]
    }
  ]
}